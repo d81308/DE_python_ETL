{
 "cells": [
  {
   "cell_type": "code",
   "execution_count": 1,
   "id": "688f2ebf",
   "metadata": {},
   "outputs": [],
   "source": [
    "##tasks\n",
    "#import library\n",
    "#download file\n",
    "#unzip\n",
    "#set tmp file\n",
    "\n",
    "#logging function\n",
    "#testing cell\n",
    "\n",
    "#ETL function\n",
    "    #def extract function\n",
    "        #file types to dataframe\n",
    "        #append/merge\n",
    "    #def transform function\n",
    "        #focus on tasks\n",
    "    #def load function\n",
    "\n",
    "#using ETL flow"
   ]
  },
  {
   "cell_type": "code",
   "execution_count": 3,
   "id": "fe6c6627",
   "metadata": {},
   "outputs": [],
   "source": [
    "##import library\n",
    "#download\n",
    "from urllib import request\n",
    "#unzip, already built\n",
    "#logging file\n",
    "from datetime import datetime\n",
    "#extract function\n",
    "import glob\n",
    "import pandas as pd\n",
    "import xml.etree.ElementTree as ET"
   ]
  },
  {
   "cell_type": "markdown",
   "id": "5030ccd4",
   "metadata": {},
   "source": [
    "# download file"
   ]
  },
  {
   "cell_type": "code",
   "execution_count": 6,
   "id": "c0eb635e",
   "metadata": {},
   "outputs": [],
   "source": [
    "#request:library\n",
    "    #urlretrieve():function\n",
    "url = \"https://cf-courses-data.s3.us.cloud-object-storage.appdomain.cloud/IBMDeveloperSkillsNetwork-PY0221EN-SkillsNetwork/labs/module%206/Lab%20-%20Extract%20Transform%20Load/data/datasource.zip\"\n",
    "response = request.urlretrieve(url,'datasource.zip')"
   ]
  },
  {
   "cell_type": "markdown",
   "id": "3d19353d",
   "metadata": {},
   "source": [
    "### unzip, into folder"
   ]
  },
  {
   "cell_type": "code",
   "execution_count": 7,
   "id": "b9a7bcb9",
   "metadata": {},
   "outputs": [
    {
     "name": "stdout",
     "output_type": "stream",
     "text": [
      "Archive:  datasource.zip\r\n",
      "  inflating: dealership_data/used_car_prices1.csv  \r\n",
      "  inflating: dealership_data/used_car_prices2.csv  \r\n",
      "  inflating: dealership_data/used_car_prices3.csv  \r\n",
      "  inflating: dealership_data/used_car_prices1.json  \r\n",
      "  inflating: dealership_data/used_car_prices2.json  \r\n",
      "  inflating: dealership_data/used_car_prices3.json  \r\n",
      "  inflating: dealership_data/used_car_prices1.xml  \r\n",
      "  inflating: dealership_data/used_car_prices2.xml  \r\n",
      "  inflating: dealership_data/used_car_prices3.xml  \r\n"
     ]
    }
   ],
   "source": [
    "#-d :into folder\n",
    "    #dealership_data: folder name\n",
    "!unzip datasource.zip -d dealership_data"
   ]
  },
  {
   "cell_type": "markdown",
   "id": "4bd7f35f",
   "metadata": {},
   "source": [
    "# set path"
   ]
  },
  {
   "cell_type": "markdown",
   "id": "4531b7cc",
   "metadata": {},
   "source": [
    "* naming of files\n",
    "    * tmp file\n",
    "    * log file\n",
    "    * target file"
   ]
  },
  {
   "cell_type": "code",
   "execution_count": 25,
   "id": "0941389d",
   "metadata": {},
   "outputs": [],
   "source": [
    "tmp_file = \"dealership_tmp.tmp\"\n",
    "log_fie = \"dealership_log_file.txt\"\n",
    "target_file = \"dealership_transformed.csv\""
   ]
  },
  {
   "cell_type": "markdown",
   "id": "a230f57a",
   "metadata": {},
   "source": [
    "# Logging function"
   ]
  },
  {
   "cell_type": "markdown",
   "id": "db7508b4",
   "metadata": {},
   "source": [
    "* with open 'a' mode:do\n",
    "    *datetime + messenage + \\n:write in"
   ]
  },
  {
   "cell_type": "code",
   "execution_count": 31,
   "id": "f00d8a3b",
   "metadata": {},
   "outputs": [],
   "source": [
    "#datetime:module\n",
    "    #datetime:library\n",
    "        #now():function\n",
    "        #strftime():function\n",
    "            #stamp_format:determine\n",
    "                #'%':string format\n",
    "def log(prioity,messenage):\n",
    "    datetime_stamp = \"%Y-%m-%d %H:%M:%S\"\n",
    "    now_time = datetime.now()\n",
    "    datetime_log = now_time.strftime(datetime_stamp)\n",
    "    with open(\"dealership_log_file.txt\",'a') as f:\n",
    "        f.write(datetime_log + ',' + '[' + prioity + ']' + messenage + '\\n')"
   ]
  },
  {
   "cell_type": "markdown",
   "id": "5bac57a6",
   "metadata": {},
   "source": [
    "## testing cell"
   ]
  },
  {
   "cell_type": "code",
   "execution_count": 144,
   "id": "6380df0e",
   "metadata": {},
   "outputs": [],
   "source": [
    "logs = 'testing load procedure, success'\n",
    "prioity = 'action'\n",
    "log(prioity,logs)"
   ]
  },
  {
   "cell_type": "code",
   "execution_count": 139,
   "id": "b2de9e45",
   "metadata": {},
   "outputs": [],
   "source": [
    "logs='(t,target_file) is neither a string nor a macro'\n",
    "prioity = 'error'\n",
    "log(prioity,logs)"
   ]
  },
  {
   "cell_type": "code",
   "execution_count": 143,
   "id": "7404f9aa",
   "metadata": {},
   "outputs": [],
   "source": [
    "logs = 'function design, dataframe input need to be second variable'\n",
    "prioity = 'solved'\n",
    "log(prioity,logs)"
   ]
  },
  {
   "cell_type": "code",
   "execution_count": null,
   "id": "e4bcfd34",
   "metadata": {},
   "outputs": [],
   "source": []
  },
  {
   "cell_type": "code",
   "execution_count": null,
   "id": "46f8f8e3",
   "metadata": {},
   "outputs": [],
   "source": []
  },
  {
   "cell_type": "code",
   "execution_count": null,
   "id": "14e7a1e5",
   "metadata": {},
   "outputs": [],
   "source": []
  },
  {
   "cell_type": "code",
   "execution_count": null,
   "id": "a6037bfb",
   "metadata": {},
   "outputs": [],
   "source": []
  },
  {
   "cell_type": "markdown",
   "id": "2c92334c",
   "metadata": {},
   "source": [
    "The ETL process"
   ]
  },
  {
   "cell_type": "markdown",
   "id": "dba2ebe3",
   "metadata": {},
   "source": [
    "# Extract function"
   ]
  },
  {
   "cell_type": "markdown",
   "id": "0684a4e5",
   "metadata": {},
   "source": [
    "* open file by glob\n",
    "    - file types into dataframe"
   ]
  },
  {
   "cell_type": "markdown",
   "id": "80b09d14",
   "metadata": {},
   "source": [
    "    * file types into dataframe"
   ]
  },
  {
   "cell_type": "markdown",
   "id": "0637dc12",
   "metadata": {},
   "source": [
    "        #extact_from_xml tree\n",
    "            #read xml file\n",
    "                #ET:library\n",
    "                    #tree:tree\n",
    "                        #parse(file):function\n",
    "                            #getroot():function\n",
    "            #into dataframe,append\n",
    "                #determine column names\n",
    "                #car_model,year_of_manufacture,price,fuel\n",
    "                    #column name = .find(key).text"
   ]
  },
  {
   "cell_type": "code",
   "execution_count": 116,
   "id": "205a5baf",
   "metadata": {},
   "outputs": [],
   "source": [
    "#read_csv into dataframe\n",
    "def extract_from_csv(file_to_process):\n",
    "    dataframe = pd.read_csv(file_to_process)\n",
    "    return dataframe"
   ]
  },
  {
   "cell_type": "code",
   "execution_count": 117,
   "id": "cdbdd1a1",
   "metadata": {},
   "outputs": [],
   "source": [
    "#read_json into dataframe\n",
    "def extract_from_json(file_to_process):\n",
    "    dataframe = pd.read_json(file_to_process,lines=True)\n",
    "    return dataframe"
   ]
  },
  {
   "cell_type": "code",
   "execution_count": 118,
   "id": "fd3376b1",
   "metadata": {},
   "outputs": [],
   "source": [
    "def extract_from_xml(file_to_process):\n",
    "    dataframe = pd.DataFrame(columns=['car_model','year_of_manufacture','price','fuel'])\n",
    "    tree = ET.parse(file_to_process)\n",
    "    tree_root = tree.getroot()\n",
    "    for car_info in tree_root:\n",
    "        car_model = car_info.find('car_model').text\n",
    "        year_of_manufacture = car_info.find('year_of_manufacture').text\n",
    "        price = car_info.find('price').text\n",
    "        fuel = car_info.find('fuel').text\n",
    "        dataframe = dataframe.append({'car_model':car_model,'year_of_manufacture':year_of_manufacture,'price':price,'fuel':fuel},ignore_index=True)\n",
    "    return dataframe"
   ]
  },
  {
   "cell_type": "markdown",
   "id": "4075df3f",
   "metadata": {},
   "source": [
    "    * extract appending"
   ]
  },
  {
   "cell_type": "markdown",
   "id": "3c878541",
   "metadata": {},
   "source": [
    "        #read all types files:do\n",
    "            #glob:library\n",
    "                #glob():function\n",
    "                    #*.csv:all csv files\n",
    "        #into dataframe, append\n",
    "            #determine column names\n",
    "            #car_model,year_of_manufacture,price,fuel\n",
    "                #append dataframes into dataframe"
   ]
  },
  {
   "cell_type": "code",
   "execution_count": 119,
   "id": "4e629391",
   "metadata": {},
   "outputs": [],
   "source": [
    "def extract():\n",
    "    extracted_data = pd.DataFrame(columns=['car_model','year_of_manufacture','price','fuel'])\n",
    "    #process all csv file\n",
    "    for csv_file in glob.glob(\"dealership_data/*.csv\"):\n",
    "        extracted_data = extracted_data.append(extract_from_csv(csv_file),ignore_index=True)\n",
    "    #process all json file\n",
    "    for json_file in glob.glob(\"dealership_data/*.json\"):\n",
    "        extracted_data = extracted_data.append(extract_from_json(json_file),ignore_index=True)\n",
    "    #process all xml file\n",
    "    for xml_file in glob.glob(\"dealership_data/*.xml\"):\n",
    "        extracted_data = extracted_data.append(extract_from_xml(xml_file),ignore_index=True)\n",
    "        \n",
    "    return extracted_data"
   ]
  },
  {
   "cell_type": "markdown",
   "id": "da0728a0",
   "metadata": {},
   "source": [
    "# Transform function"
   ]
  },
  {
   "cell_type": "code",
   "execution_count": 129,
   "id": "4766410d",
   "metadata": {},
   "outputs": [],
   "source": [
    "#price to round 0\n",
    "def transform(data):\n",
    "    data['price'] = round(data.price.astype(float),2)\n",
    "    \n",
    "    return data"
   ]
  },
  {
   "cell_type": "markdown",
   "id": "2d100bd7",
   "metadata": {},
   "source": [
    "# Load function"
   ]
  },
  {
   "cell_type": "code",
   "execution_count": 137,
   "id": "cce0ae36",
   "metadata": {},
   "outputs": [],
   "source": [
    "#dataframe load to csv \n",
    "#target_file = \"dealership_transformed.csv\"\n",
    "def load(file_to_target,data_to_load):\n",
    "    data_to_load.to_csv(file_to_target)"
   ]
  },
  {
   "cell_type": "markdown",
   "id": "c50e0138",
   "metadata": {},
   "source": [
    "# Running ETL flow"
   ]
  },
  {
   "cell_type": "code",
   "execution_count": 145,
   "id": "a2e1514d",
   "metadata": {},
   "outputs": [
    {
     "ename": "TypeError",
     "evalue": "log() missing 1 required positional argument: 'messenage'",
     "output_type": "error",
     "traceback": [
      "\u001b[0;31m---------------------------------------------------------------------------\u001b[0m",
      "\u001b[0;31mTypeError\u001b[0m                                 Traceback (most recent call last)",
      "\u001b[0;32m<ipython-input-145-0449b646b34a>\u001b[0m in \u001b[0;36m<module>\u001b[0;34m\u001b[0m\n\u001b[0;32m----> 1\u001b[0;31m \u001b[0mlog\u001b[0m\u001b[0;34m(\u001b[0m\u001b[0;34m\"Starting ETL process\"\u001b[0m\u001b[0;34m)\u001b[0m\u001b[0;34m\u001b[0m\u001b[0;34m\u001b[0m\u001b[0m\n\u001b[0m",
      "\u001b[0;31mTypeError\u001b[0m: log() missing 1 required positional argument: 'messenage'"
     ]
    }
   ],
   "source": [
    "log(\"Starting ETL process\")"
   ]
  },
  {
   "cell_type": "code",
   "execution_count": 146,
   "id": "42c6ecaa",
   "metadata": {},
   "outputs": [
    {
     "name": "stderr",
     "output_type": "stream",
     "text": [
      "<ipython-input-119-0e4b821907cf>:5: FutureWarning: The frame.append method is deprecated and will be removed from pandas in a future version. Use pandas.concat instead.\n",
      "  extracted_data = extracted_data.append(extract_from_csv(csv_file),ignore_index=True)\n",
      "<ipython-input-119-0e4b821907cf>:5: FutureWarning: The frame.append method is deprecated and will be removed from pandas in a future version. Use pandas.concat instead.\n",
      "  extracted_data = extracted_data.append(extract_from_csv(csv_file),ignore_index=True)\n",
      "<ipython-input-119-0e4b821907cf>:5: FutureWarning: The frame.append method is deprecated and will be removed from pandas in a future version. Use pandas.concat instead.\n",
      "  extracted_data = extracted_data.append(extract_from_csv(csv_file),ignore_index=True)\n",
      "<ipython-input-119-0e4b821907cf>:8: FutureWarning: The frame.append method is deprecated and will be removed from pandas in a future version. Use pandas.concat instead.\n",
      "  extracted_data = extracted_data.append(extract_from_json(json_file),ignore_index=True)\n",
      "<ipython-input-119-0e4b821907cf>:8: FutureWarning: The frame.append method is deprecated and will be removed from pandas in a future version. Use pandas.concat instead.\n",
      "  extracted_data = extracted_data.append(extract_from_json(json_file),ignore_index=True)\n",
      "<ipython-input-119-0e4b821907cf>:8: FutureWarning: The frame.append method is deprecated and will be removed from pandas in a future version. Use pandas.concat instead.\n",
      "  extracted_data = extracted_data.append(extract_from_json(json_file),ignore_index=True)\n",
      "<ipython-input-118-98060f26a8cb>:10: FutureWarning: The frame.append method is deprecated and will be removed from pandas in a future version. Use pandas.concat instead.\n",
      "  dataframe = dataframe.append({'car_model':car_model,'year_of_manufacture':year_of_manufacture,'price':price,'fuel':fuel},ignore_index=True)\n",
      "<ipython-input-118-98060f26a8cb>:10: FutureWarning: The frame.append method is deprecated and will be removed from pandas in a future version. Use pandas.concat instead.\n",
      "  dataframe = dataframe.append({'car_model':car_model,'year_of_manufacture':year_of_manufacture,'price':price,'fuel':fuel},ignore_index=True)\n",
      "<ipython-input-118-98060f26a8cb>:10: FutureWarning: The frame.append method is deprecated and will be removed from pandas in a future version. Use pandas.concat instead.\n",
      "  dataframe = dataframe.append({'car_model':car_model,'year_of_manufacture':year_of_manufacture,'price':price,'fuel':fuel},ignore_index=True)\n",
      "<ipython-input-118-98060f26a8cb>:10: FutureWarning: The frame.append method is deprecated and will be removed from pandas in a future version. Use pandas.concat instead.\n",
      "  dataframe = dataframe.append({'car_model':car_model,'year_of_manufacture':year_of_manufacture,'price':price,'fuel':fuel},ignore_index=True)\n",
      "<ipython-input-118-98060f26a8cb>:10: FutureWarning: The frame.append method is deprecated and will be removed from pandas in a future version. Use pandas.concat instead.\n",
      "  dataframe = dataframe.append({'car_model':car_model,'year_of_manufacture':year_of_manufacture,'price':price,'fuel':fuel},ignore_index=True)\n",
      "<ipython-input-118-98060f26a8cb>:10: FutureWarning: The frame.append method is deprecated and will be removed from pandas in a future version. Use pandas.concat instead.\n",
      "  dataframe = dataframe.append({'car_model':car_model,'year_of_manufacture':year_of_manufacture,'price':price,'fuel':fuel},ignore_index=True)\n",
      "<ipython-input-118-98060f26a8cb>:10: FutureWarning: The frame.append method is deprecated and will be removed from pandas in a future version. Use pandas.concat instead.\n",
      "  dataframe = dataframe.append({'car_model':car_model,'year_of_manufacture':year_of_manufacture,'price':price,'fuel':fuel},ignore_index=True)\n",
      "<ipython-input-118-98060f26a8cb>:10: FutureWarning: The frame.append method is deprecated and will be removed from pandas in a future version. Use pandas.concat instead.\n",
      "  dataframe = dataframe.append({'car_model':car_model,'year_of_manufacture':year_of_manufacture,'price':price,'fuel':fuel},ignore_index=True)\n",
      "<ipython-input-118-98060f26a8cb>:10: FutureWarning: The frame.append method is deprecated and will be removed from pandas in a future version. Use pandas.concat instead.\n",
      "  dataframe = dataframe.append({'car_model':car_model,'year_of_manufacture':year_of_manufacture,'price':price,'fuel':fuel},ignore_index=True)\n",
      "<ipython-input-118-98060f26a8cb>:10: FutureWarning: The frame.append method is deprecated and will be removed from pandas in a future version. Use pandas.concat instead.\n",
      "  dataframe = dataframe.append({'car_model':car_model,'year_of_manufacture':year_of_manufacture,'price':price,'fuel':fuel},ignore_index=True)\n",
      "<ipython-input-119-0e4b821907cf>:11: FutureWarning: The frame.append method is deprecated and will be removed from pandas in a future version. Use pandas.concat instead.\n",
      "  extracted_data = extracted_data.append(extract_from_xml(xml_file),ignore_index=True)\n",
      "<ipython-input-118-98060f26a8cb>:10: FutureWarning: The frame.append method is deprecated and will be removed from pandas in a future version. Use pandas.concat instead.\n",
      "  dataframe = dataframe.append({'car_model':car_model,'year_of_manufacture':year_of_manufacture,'price':price,'fuel':fuel},ignore_index=True)\n",
      "<ipython-input-118-98060f26a8cb>:10: FutureWarning: The frame.append method is deprecated and will be removed from pandas in a future version. Use pandas.concat instead.\n",
      "  dataframe = dataframe.append({'car_model':car_model,'year_of_manufacture':year_of_manufacture,'price':price,'fuel':fuel},ignore_index=True)\n",
      "<ipython-input-118-98060f26a8cb>:10: FutureWarning: The frame.append method is deprecated and will be removed from pandas in a future version. Use pandas.concat instead.\n",
      "  dataframe = dataframe.append({'car_model':car_model,'year_of_manufacture':year_of_manufacture,'price':price,'fuel':fuel},ignore_index=True)\n",
      "<ipython-input-118-98060f26a8cb>:10: FutureWarning: The frame.append method is deprecated and will be removed from pandas in a future version. Use pandas.concat instead.\n",
      "  dataframe = dataframe.append({'car_model':car_model,'year_of_manufacture':year_of_manufacture,'price':price,'fuel':fuel},ignore_index=True)\n",
      "<ipython-input-118-98060f26a8cb>:10: FutureWarning: The frame.append method is deprecated and will be removed from pandas in a future version. Use pandas.concat instead.\n",
      "  dataframe = dataframe.append({'car_model':car_model,'year_of_manufacture':year_of_manufacture,'price':price,'fuel':fuel},ignore_index=True)\n",
      "<ipython-input-118-98060f26a8cb>:10: FutureWarning: The frame.append method is deprecated and will be removed from pandas in a future version. Use pandas.concat instead.\n",
      "  dataframe = dataframe.append({'car_model':car_model,'year_of_manufacture':year_of_manufacture,'price':price,'fuel':fuel},ignore_index=True)\n",
      "<ipython-input-118-98060f26a8cb>:10: FutureWarning: The frame.append method is deprecated and will be removed from pandas in a future version. Use pandas.concat instead.\n",
      "  dataframe = dataframe.append({'car_model':car_model,'year_of_manufacture':year_of_manufacture,'price':price,'fuel':fuel},ignore_index=True)\n",
      "<ipython-input-118-98060f26a8cb>:10: FutureWarning: The frame.append method is deprecated and will be removed from pandas in a future version. Use pandas.concat instead.\n",
      "  dataframe = dataframe.append({'car_model':car_model,'year_of_manufacture':year_of_manufacture,'price':price,'fuel':fuel},ignore_index=True)\n",
      "<ipython-input-118-98060f26a8cb>:10: FutureWarning: The frame.append method is deprecated and will be removed from pandas in a future version. Use pandas.concat instead.\n",
      "  dataframe = dataframe.append({'car_model':car_model,'year_of_manufacture':year_of_manufacture,'price':price,'fuel':fuel},ignore_index=True)\n",
      "<ipython-input-118-98060f26a8cb>:10: FutureWarning: The frame.append method is deprecated and will be removed from pandas in a future version. Use pandas.concat instead.\n",
      "  dataframe = dataframe.append({'car_model':car_model,'year_of_manufacture':year_of_manufacture,'price':price,'fuel':fuel},ignore_index=True)\n",
      "<ipython-input-119-0e4b821907cf>:11: FutureWarning: The frame.append method is deprecated and will be removed from pandas in a future version. Use pandas.concat instead.\n",
      "  extracted_data = extracted_data.append(extract_from_xml(xml_file),ignore_index=True)\n",
      "<ipython-input-118-98060f26a8cb>:10: FutureWarning: The frame.append method is deprecated and will be removed from pandas in a future version. Use pandas.concat instead.\n",
      "  dataframe = dataframe.append({'car_model':car_model,'year_of_manufacture':year_of_manufacture,'price':price,'fuel':fuel},ignore_index=True)\n",
      "<ipython-input-118-98060f26a8cb>:10: FutureWarning: The frame.append method is deprecated and will be removed from pandas in a future version. Use pandas.concat instead.\n",
      "  dataframe = dataframe.append({'car_model':car_model,'year_of_manufacture':year_of_manufacture,'price':price,'fuel':fuel},ignore_index=True)\n",
      "<ipython-input-118-98060f26a8cb>:10: FutureWarning: The frame.append method is deprecated and will be removed from pandas in a future version. Use pandas.concat instead.\n",
      "  dataframe = dataframe.append({'car_model':car_model,'year_of_manufacture':year_of_manufacture,'price':price,'fuel':fuel},ignore_index=True)\n",
      "<ipython-input-118-98060f26a8cb>:10: FutureWarning: The frame.append method is deprecated and will be removed from pandas in a future version. Use pandas.concat instead.\n",
      "  dataframe = dataframe.append({'car_model':car_model,'year_of_manufacture':year_of_manufacture,'price':price,'fuel':fuel},ignore_index=True)\n",
      "<ipython-input-118-98060f26a8cb>:10: FutureWarning: The frame.append method is deprecated and will be removed from pandas in a future version. Use pandas.concat instead.\n",
      "  dataframe = dataframe.append({'car_model':car_model,'year_of_manufacture':year_of_manufacture,'price':price,'fuel':fuel},ignore_index=True)\n",
      "<ipython-input-118-98060f26a8cb>:10: FutureWarning: The frame.append method is deprecated and will be removed from pandas in a future version. Use pandas.concat instead.\n",
      "  dataframe = dataframe.append({'car_model':car_model,'year_of_manufacture':year_of_manufacture,'price':price,'fuel':fuel},ignore_index=True)\n",
      "<ipython-input-118-98060f26a8cb>:10: FutureWarning: The frame.append method is deprecated and will be removed from pandas in a future version. Use pandas.concat instead.\n",
      "  dataframe = dataframe.append({'car_model':car_model,'year_of_manufacture':year_of_manufacture,'price':price,'fuel':fuel},ignore_index=True)\n",
      "<ipython-input-118-98060f26a8cb>:10: FutureWarning: The frame.append method is deprecated and will be removed from pandas in a future version. Use pandas.concat instead.\n",
      "  dataframe = dataframe.append({'car_model':car_model,'year_of_manufacture':year_of_manufacture,'price':price,'fuel':fuel},ignore_index=True)\n",
      "<ipython-input-118-98060f26a8cb>:10: FutureWarning: The frame.append method is deprecated and will be removed from pandas in a future version. Use pandas.concat instead.\n",
      "  dataframe = dataframe.append({'car_model':car_model,'year_of_manufacture':year_of_manufacture,'price':price,'fuel':fuel},ignore_index=True)\n",
      "<ipython-input-118-98060f26a8cb>:10: FutureWarning: The frame.append method is deprecated and will be removed from pandas in a future version. Use pandas.concat instead.\n",
      "  dataframe = dataframe.append({'car_model':car_model,'year_of_manufacture':year_of_manufacture,'price':price,'fuel':fuel},ignore_index=True)\n",
      "<ipython-input-119-0e4b821907cf>:11: FutureWarning: The frame.append method is deprecated and will be removed from pandas in a future version. Use pandas.concat instead.\n",
      "  extracted_data = extracted_data.append(extract_from_xml(xml_file),ignore_index=True)\n"
     ]
    },
    {
     "data": {
      "text/html": [
       "<div>\n",
       "<style scoped>\n",
       "    .dataframe tbody tr th:only-of-type {\n",
       "        vertical-align: middle;\n",
       "    }\n",
       "\n",
       "    .dataframe tbody tr th {\n",
       "        vertical-align: top;\n",
       "    }\n",
       "\n",
       "    .dataframe thead th {\n",
       "        text-align: right;\n",
       "    }\n",
       "</style>\n",
       "<table border=\"1\" class=\"dataframe\">\n",
       "  <thead>\n",
       "    <tr style=\"text-align: right;\">\n",
       "      <th></th>\n",
       "      <th>car_model</th>\n",
       "      <th>year_of_manufacture</th>\n",
       "      <th>price</th>\n",
       "      <th>fuel</th>\n",
       "    </tr>\n",
       "  </thead>\n",
       "  <tbody>\n",
       "    <tr>\n",
       "      <th>0</th>\n",
       "      <td>ritz</td>\n",
       "      <td>2014</td>\n",
       "      <td>5000.0</td>\n",
       "      <td>Petrol</td>\n",
       "    </tr>\n",
       "    <tr>\n",
       "      <th>1</th>\n",
       "      <td>sx4</td>\n",
       "      <td>2013</td>\n",
       "      <td>7089.552239</td>\n",
       "      <td>Diesel</td>\n",
       "    </tr>\n",
       "    <tr>\n",
       "      <th>2</th>\n",
       "      <td>ciaz</td>\n",
       "      <td>2017</td>\n",
       "      <td>10820.895522</td>\n",
       "      <td>Petrol</td>\n",
       "    </tr>\n",
       "    <tr>\n",
       "      <th>3</th>\n",
       "      <td>wagon r</td>\n",
       "      <td>2011</td>\n",
       "      <td>4253.731343</td>\n",
       "      <td>Petrol</td>\n",
       "    </tr>\n",
       "    <tr>\n",
       "      <th>4</th>\n",
       "      <td>swift</td>\n",
       "      <td>2014</td>\n",
       "      <td>6865.671642</td>\n",
       "      <td>Diesel</td>\n",
       "    </tr>\n",
       "    <tr>\n",
       "      <th>...</th>\n",
       "      <td>...</td>\n",
       "      <td>...</td>\n",
       "      <td>...</td>\n",
       "      <td>...</td>\n",
       "    </tr>\n",
       "    <tr>\n",
       "      <th>85</th>\n",
       "      <td>etios liva</td>\n",
       "      <td>2014</td>\n",
       "      <td>7089.55223880597</td>\n",
       "      <td>Diesel</td>\n",
       "    </tr>\n",
       "    <tr>\n",
       "      <th>86</th>\n",
       "      <td>innova</td>\n",
       "      <td>2017</td>\n",
       "      <td>29477.611940298506</td>\n",
       "      <td>Petrol</td>\n",
       "    </tr>\n",
       "    <tr>\n",
       "      <th>87</th>\n",
       "      <td>fortuner</td>\n",
       "      <td>2010</td>\n",
       "      <td>13805.970149253732</td>\n",
       "      <td>Diesel</td>\n",
       "    </tr>\n",
       "    <tr>\n",
       "      <th>88</th>\n",
       "      <td>corolla altis</td>\n",
       "      <td>2011</td>\n",
       "      <td>6492.537313432835</td>\n",
       "      <td>Petrol</td>\n",
       "    </tr>\n",
       "    <tr>\n",
       "      <th>89</th>\n",
       "      <td>corolla altis</td>\n",
       "      <td>2016</td>\n",
       "      <td>21268.65671641791</td>\n",
       "      <td>Petrol</td>\n",
       "    </tr>\n",
       "  </tbody>\n",
       "</table>\n",
       "<p>90 rows × 4 columns</p>\n",
       "</div>"
      ],
      "text/plain": [
       "        car_model year_of_manufacture               price    fuel\n",
       "0            ritz                2014              5000.0  Petrol\n",
       "1             sx4                2013         7089.552239  Diesel\n",
       "2            ciaz                2017        10820.895522  Petrol\n",
       "3         wagon r                2011         4253.731343  Petrol\n",
       "4           swift                2014         6865.671642  Diesel\n",
       "..            ...                 ...                 ...     ...\n",
       "85     etios liva                2014    7089.55223880597  Diesel\n",
       "86         innova                2017  29477.611940298506  Petrol\n",
       "87       fortuner                2010  13805.970149253732  Diesel\n",
       "88  corolla altis                2011   6492.537313432835  Petrol\n",
       "89  corolla altis                2016   21268.65671641791  Petrol\n",
       "\n",
       "[90 rows x 4 columns]"
      ]
     },
     "execution_count": 146,
     "metadata": {},
     "output_type": "execute_result"
    }
   ],
   "source": [
    "log(\"action\",\"Extract phase Started\")\n",
    "extracted_data = extract()\n",
    "log(\"action\",\"Extract phase Ended\")\n",
    "extracted_data"
   ]
  },
  {
   "cell_type": "code",
   "execution_count": 147,
   "id": "6bb077c2",
   "metadata": {},
   "outputs": [
    {
     "data": {
      "text/html": [
       "<div>\n",
       "<style scoped>\n",
       "    .dataframe tbody tr th:only-of-type {\n",
       "        vertical-align: middle;\n",
       "    }\n",
       "\n",
       "    .dataframe tbody tr th {\n",
       "        vertical-align: top;\n",
       "    }\n",
       "\n",
       "    .dataframe thead th {\n",
       "        text-align: right;\n",
       "    }\n",
       "</style>\n",
       "<table border=\"1\" class=\"dataframe\">\n",
       "  <thead>\n",
       "    <tr style=\"text-align: right;\">\n",
       "      <th></th>\n",
       "      <th>car_model</th>\n",
       "      <th>year_of_manufacture</th>\n",
       "      <th>price</th>\n",
       "      <th>fuel</th>\n",
       "    </tr>\n",
       "  </thead>\n",
       "  <tbody>\n",
       "    <tr>\n",
       "      <th>0</th>\n",
       "      <td>ritz</td>\n",
       "      <td>2014</td>\n",
       "      <td>5000.00</td>\n",
       "      <td>Petrol</td>\n",
       "    </tr>\n",
       "    <tr>\n",
       "      <th>1</th>\n",
       "      <td>sx4</td>\n",
       "      <td>2013</td>\n",
       "      <td>7089.55</td>\n",
       "      <td>Diesel</td>\n",
       "    </tr>\n",
       "    <tr>\n",
       "      <th>2</th>\n",
       "      <td>ciaz</td>\n",
       "      <td>2017</td>\n",
       "      <td>10820.90</td>\n",
       "      <td>Petrol</td>\n",
       "    </tr>\n",
       "    <tr>\n",
       "      <th>3</th>\n",
       "      <td>wagon r</td>\n",
       "      <td>2011</td>\n",
       "      <td>4253.73</td>\n",
       "      <td>Petrol</td>\n",
       "    </tr>\n",
       "    <tr>\n",
       "      <th>4</th>\n",
       "      <td>swift</td>\n",
       "      <td>2014</td>\n",
       "      <td>6865.67</td>\n",
       "      <td>Diesel</td>\n",
       "    </tr>\n",
       "    <tr>\n",
       "      <th>...</th>\n",
       "      <td>...</td>\n",
       "      <td>...</td>\n",
       "      <td>...</td>\n",
       "      <td>...</td>\n",
       "    </tr>\n",
       "    <tr>\n",
       "      <th>85</th>\n",
       "      <td>etios liva</td>\n",
       "      <td>2014</td>\n",
       "      <td>7089.55</td>\n",
       "      <td>Diesel</td>\n",
       "    </tr>\n",
       "    <tr>\n",
       "      <th>86</th>\n",
       "      <td>innova</td>\n",
       "      <td>2017</td>\n",
       "      <td>29477.61</td>\n",
       "      <td>Petrol</td>\n",
       "    </tr>\n",
       "    <tr>\n",
       "      <th>87</th>\n",
       "      <td>fortuner</td>\n",
       "      <td>2010</td>\n",
       "      <td>13805.97</td>\n",
       "      <td>Diesel</td>\n",
       "    </tr>\n",
       "    <tr>\n",
       "      <th>88</th>\n",
       "      <td>corolla altis</td>\n",
       "      <td>2011</td>\n",
       "      <td>6492.54</td>\n",
       "      <td>Petrol</td>\n",
       "    </tr>\n",
       "    <tr>\n",
       "      <th>89</th>\n",
       "      <td>corolla altis</td>\n",
       "      <td>2016</td>\n",
       "      <td>21268.66</td>\n",
       "      <td>Petrol</td>\n",
       "    </tr>\n",
       "  </tbody>\n",
       "</table>\n",
       "<p>90 rows × 4 columns</p>\n",
       "</div>"
      ],
      "text/plain": [
       "        car_model year_of_manufacture     price    fuel\n",
       "0            ritz                2014   5000.00  Petrol\n",
       "1             sx4                2013   7089.55  Diesel\n",
       "2            ciaz                2017  10820.90  Petrol\n",
       "3         wagon r                2011   4253.73  Petrol\n",
       "4           swift                2014   6865.67  Diesel\n",
       "..            ...                 ...       ...     ...\n",
       "85     etios liva                2014   7089.55  Diesel\n",
       "86         innova                2017  29477.61  Petrol\n",
       "87       fortuner                2010  13805.97  Diesel\n",
       "88  corolla altis                2011   6492.54  Petrol\n",
       "89  corolla altis                2016  21268.66  Petrol\n",
       "\n",
       "[90 rows x 4 columns]"
      ]
     },
     "execution_count": 147,
     "metadata": {},
     "output_type": "execute_result"
    }
   ],
   "source": [
    "log(\"action\",\"Transform phase Started\")\n",
    "transformed_data = transform(extracted_data)\n",
    "log(\"action\",\"Transform phase Ended\")\n",
    "transformed_data"
   ]
  },
  {
   "cell_type": "code",
   "execution_count": 148,
   "id": "216904b8",
   "metadata": {},
   "outputs": [],
   "source": [
    "log(\"action\",\"Load phase Started\")\n",
    "load(target_file,transformed_data)\n",
    "log(\"action\",\"Load phase Ended\")"
   ]
  },
  {
   "cell_type": "code",
   "execution_count": 149,
   "id": "61935997",
   "metadata": {},
   "outputs": [],
   "source": [
    "log(\"action\",\"ETL flow is completed\")"
   ]
  },
  {
   "cell_type": "code",
   "execution_count": null,
   "id": "4706efdb",
   "metadata": {},
   "outputs": [],
   "source": []
  }
 ],
 "metadata": {
  "kernelspec": {
   "display_name": "Python 3",
   "language": "python",
   "name": "python3"
  },
  "language_info": {
   "codemirror_mode": {
    "name": "ipython",
    "version": 3
   },
   "file_extension": ".py",
   "mimetype": "text/x-python",
   "name": "python",
   "nbconvert_exporter": "python",
   "pygments_lexer": "ipython3",
   "version": "3.8.8"
  }
 },
 "nbformat": 4,
 "nbformat_minor": 5
}
