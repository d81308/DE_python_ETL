{
 "cells": [
  {
   "cell_type": "markdown",
   "id": "13b5c7ad",
   "metadata": {},
   "source": [
    "# Objectives\n",
    "* \n",
    "* \n",
    "* "
   ]
  },
  {
   "cell_type": "markdown",
   "id": "f9332559",
   "metadata": {},
   "source": [
    "# Set file path"
   ]
  },
  {
   "cell_type": "code",
   "execution_count": null,
   "id": "e40cfea9",
   "metadata": {},
   "outputs": [],
   "source": [
    "target = 'target'\n",
    "tmp_file = target + 'tmp.tmp'\n",
    "log_file = target + '_log_file.txt'\n",
    "target_file = target + '_transformed.csv'"
   ]
  },
  {
   "cell_type": "markdown",
   "id": "3c889873",
   "metadata": {},
   "source": [
    "# Logging cell"
   ]
  },
  {
   "cell_type": "code",
   "execution_count": null,
   "id": "109e5a0e",
   "metadata": {},
   "outputs": [],
   "source": [
    "from datetime import datetime\n",
    "def log(prioity,messenage):\n",
    "    datetime_stamp = \"%Y-%m-%d %H:%M:%S\"\n",
    "    now_time = datetime.now()\n",
    "    datetime_log = now_time.strftime(datetime_stamp)\n",
    "    with open(log_file,'a') as f:\n",
    "        f.write(datetime_log + ',' + '[' + prioity + ']' + messenage + '\\n')"
   ]
  },
  {
   "cell_type": "code",
   "execution_count": null,
   "id": "8e9f7fbe",
   "metadata": {},
   "outputs": [],
   "source": [
    "log(\"action\",\"logging cell is build\")"
   ]
  },
  {
   "cell_type": "code",
   "execution_count": null,
   "id": "bd3c6917",
   "metadata": {},
   "outputs": [],
   "source": []
  },
  {
   "cell_type": "markdown",
   "id": "4145ccd6",
   "metadata": {},
   "source": [
    "# Get data"
   ]
  },
  {
   "cell_type": "code",
   "execution_count": null,
   "id": "68737abb",
   "metadata": {},
   "outputs": [],
   "source": []
  },
  {
   "cell_type": "markdown",
   "id": "8f7cc924",
   "metadata": {},
   "source": [
    "# ETL process"
   ]
  },
  {
   "cell_type": "markdown",
   "id": "4ab280b4",
   "metadata": {},
   "source": [
    "    #Extract function"
   ]
  },
  {
   "cell_type": "code",
   "execution_count": null,
   "id": "939cd3be",
   "metadata": {},
   "outputs": [],
   "source": []
  },
  {
   "cell_type": "markdown",
   "id": "1a72d74c",
   "metadata": {},
   "source": [
    "        #Extract all files"
   ]
  },
  {
   "cell_type": "code",
   "execution_count": null,
   "id": "91bce9a5",
   "metadata": {},
   "outputs": [],
   "source": []
  },
  {
   "cell_type": "markdown",
   "id": "92ecc4e6",
   "metadata": {},
   "source": [
    "    #Transform function"
   ]
  },
  {
   "cell_type": "code",
   "execution_count": null,
   "id": "9be7adbf",
   "metadata": {},
   "outputs": [],
   "source": []
  },
  {
   "cell_type": "markdown",
   "id": "835f3619",
   "metadata": {},
   "source": [
    "    #Load function"
   ]
  },
  {
   "cell_type": "code",
   "execution_count": null,
   "id": "5f3367e0",
   "metadata": {},
   "outputs": [],
   "source": []
  },
  {
   "cell_type": "markdown",
   "id": "0e896823",
   "metadata": {},
   "source": [
    "# Testing cell"
   ]
  },
  {
   "cell_type": "code",
   "execution_count": null,
   "id": "2d7f4df6",
   "metadata": {},
   "outputs": [],
   "source": []
  }
 ],
 "metadata": {
  "kernelspec": {
   "display_name": "Python 3",
   "language": "python",
   "name": "python3"
  },
  "language_info": {
   "codemirror_mode": {
    "name": "ipython",
    "version": 3
   },
   "file_extension": ".py",
   "mimetype": "text/x-python",
   "name": "python",
   "nbconvert_exporter": "python",
   "pygments_lexer": "ipython3",
   "version": "3.8.8"
  }
 },
 "nbformat": 4,
 "nbformat_minor": 5
}
