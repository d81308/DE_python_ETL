{
 "cells": [
  {
   "cell_type": "markdown",
   "id": "13b5c7ad",
   "metadata": {},
   "source": [
    "# Objectives\n",
    "* download file from courses's cloud link\n",
    "* get lateset exchange value from api\n",
    "* run and test ETL process"
   ]
  },
  {
   "cell_type": "markdown",
   "id": "f9332559",
   "metadata": {},
   "source": [
    "# Set file path"
   ]
  },
  {
   "cell_type": "code",
   "execution_count": 2,
   "id": "e40cfea9",
   "metadata": {},
   "outputs": [],
   "source": [
    "target = 'bank_cap_exchange'\n",
    "tmp_file = target + 'tmp.tmp'\n",
    "log_file = target + '_log_file.txt'\n",
    "target_file = target + '_transformed.csv'"
   ]
  },
  {
   "cell_type": "markdown",
   "id": "3c0205af",
   "metadata": {},
   "source": [
    "### import library"
   ]
  },
  {
   "cell_type": "code",
   "execution_count": 14,
   "id": "74a87ea1",
   "metadata": {},
   "outputs": [],
   "source": [
    "from datetime import datetime\n",
    "from urllib import request\n",
    "import requests\n",
    "import pandas as pd\n",
    "import json\n",
    "import glob"
   ]
  },
  {
   "cell_type": "markdown",
   "id": "3c889873",
   "metadata": {},
   "source": [
    "# Logging cell"
   ]
  },
  {
   "cell_type": "code",
   "execution_count": 3,
   "id": "109e5a0e",
   "metadata": {},
   "outputs": [],
   "source": [
    "def log(prioity,messenage):\n",
    "    datetime_stamp = \"%Y-%m-%d %H:%M:%S\"\n",
    "    now_time = datetime.now()\n",
    "    datetime_log = now_time.strftime(datetime_stamp)\n",
    "    with open(log_file,'a') as f:\n",
    "        f.write(datetime_log + ',' + '[' + prioity + ']' + messenage + '\\n')"
   ]
  },
  {
   "cell_type": "code",
   "execution_count": 81,
   "id": "8e9f7fbe",
   "metadata": {},
   "outputs": [],
   "source": [
    "log(\"action\",\"Started to coding load function\")"
   ]
  },
  {
   "cell_type": "code",
   "execution_count": null,
   "id": "bd3c6917",
   "metadata": {},
   "outputs": [],
   "source": []
  },
  {
   "cell_type": "markdown",
   "id": "4145ccd6",
   "metadata": {},
   "source": [
    "# Get data"
   ]
  },
  {
   "cell_type": "code",
   "execution_count": 6,
   "id": "68737abb",
   "metadata": {},
   "outputs": [],
   "source": [
    "url1= 'https://cf-courses-data.s3.us.cloud-object-storage.appdomain.cloud/IBMDeveloperSkillsNetwork-PY0221EN-SkillsNetwork/labs/module%206/Lab%20-%20Extract%20Transform%20Load/data/bank_market_cap_1.json'  \n",
    "url2= 'https://cf-courses-data.s3.us.cloud-object-storage.appdomain.cloud/IBMDeveloperSkillsNetwork-PY0221EN-SkillsNetwork/labs/module%206/Lab%20-%20Extract%20Transform%20Load/data/bank_market_cap_2.json'\n",
    "url3= 'https://cf-courses-data.s3.us.cloud-object-storage.appdomain.cloud/IBMDeveloperSkillsNetwork-PY0221EN-SkillsNetwork/labs/module%206/Final%20Assignment/exchange_rates.csv'\n",
    "url_list = [url1,url2,url3]"
   ]
  },
  {
   "cell_type": "code",
   "execution_count": 7,
   "id": "478b189f",
   "metadata": {},
   "outputs": [],
   "source": [
    "#download all files into download folder\n",
    "for url in url_list:\n",
    "    response = request.urlretrieve(url,\"download/\" + url[url.rfind('/')+1:len(url)])"
   ]
  },
  {
   "cell_type": "markdown",
   "id": "8f7cc924",
   "metadata": {},
   "source": [
    "# ETL process"
   ]
  },
  {
   "cell_type": "markdown",
   "id": "4ab280b4",
   "metadata": {},
   "source": [
    "    #Extract function"
   ]
  },
  {
   "cell_type": "code",
   "execution_count": 22,
   "id": "939cd3be",
   "metadata": {},
   "outputs": [],
   "source": [
    "#add folder path to use this function\n",
    "def extract_from_json(file_to_load):\n",
    "    dataframe = pd.read_json(file_to_load)\n",
    "    return dataframe"
   ]
  },
  {
   "cell_type": "markdown",
   "id": "1a72d74c",
   "metadata": {},
   "source": [
    "        #Extract all files"
   ]
  },
  {
   "cell_type": "code",
   "execution_count": 49,
   "id": "91bce9a5",
   "metadata": {},
   "outputs": [],
   "source": [
    "def extract():\n",
    "    extracted_data = pd.DataFrame(columns=[])\n",
    "    for json_file in glob.glob('download/*.json'):\n",
    "        extracted_data = extracted_data.append(extract_from_json(json_file),ignore_index=True)\n",
    "    return extracted_data"
   ]
  },
  {
   "cell_type": "markdown",
   "id": "92ecc4e6",
   "metadata": {},
   "source": [
    "    #Transform function"
   ]
  },
  {
   "cell_type": "code",
   "execution_count": 68,
   "id": "9be7adbf",
   "metadata": {},
   "outputs": [],
   "source": [
    "##api key\n",
    "my_api_key = \"NLyy5zY60LW5XcRteDkle9MmjyFZVs3a\"\n",
    "currency = 'GBP'"
   ]
  },
  {
   "cell_type": "code",
   "execution_count": 53,
   "id": "4654b8f2",
   "metadata": {},
   "outputs": [],
   "source": [
    "##exchange cal from api\n",
    "def exchange_usd_set_index(my_api_key, currency):\n",
    "    #get api data\n",
    "    url = \"https://api.apilayer.com/exchangerates_data/latest?base=EUR&apikey=\"+ my_api_key\n",
    "    api_data = requests.get(url).text\n",
    "    #clean data\n",
    "    non_space_data = api_data.replace(' ','').replace('\\n','')\n",
    "    json_formed_data = json.loads(non_space_data)\n",
    "    #input dataframe\n",
    "    dataframe = pd.DataFrame(json_formed_data['rates'].items(),columns=['foreign_currency','rates'])\n",
    "    dataframe_ind = dataframe.set_index('foreign_currency')\n",
    "    \n",
    "    return dataframe_ind.loc[currency]['rates']"
   ]
  },
  {
   "cell_type": "code",
   "execution_count": null,
   "id": "174f8ceb",
   "metadata": {},
   "outputs": [],
   "source": [
    "##transform function"
   ]
  },
  {
   "cell_type": "code",
   "execution_count": 74,
   "id": "ab60c4ed",
   "metadata": {},
   "outputs": [],
   "source": [
    "def transform(data,curreny):\n",
    "    #get rates\n",
    "    ex = exchange_usd_set_index(my_api_key,currency)\n",
    "    \n",
    "    #exchange values\n",
    "    data.iloc[:,1] = round(data.iloc[:,1] * ex,3)\n",
    "    \n",
    "    #rename column name\n",
    "    replaced_name = data.columns[1].replace('US','GBP')\n",
    "    data.rename(columns={data.columns[1]:replaced_name},inplace=True)\n",
    "    \n",
    "    return data"
   ]
  },
  {
   "cell_type": "markdown",
   "id": "835f3619",
   "metadata": {},
   "source": [
    "    #Load function"
   ]
  },
  {
   "cell_type": "code",
   "execution_count": 82,
   "id": "5f3367e0",
   "metadata": {},
   "outputs": [],
   "source": [
    "def load(data):\n",
    "    data.to_csv(target_file)"
   ]
  },
  {
   "cell_type": "markdown",
   "id": "f6e49cae",
   "metadata": {},
   "source": [
    "# Running ETL process"
   ]
  },
  {
   "cell_type": "code",
   "execution_count": 85,
   "id": "274d77e5",
   "metadata": {},
   "outputs": [
    {
     "name": "stderr",
     "output_type": "stream",
     "text": [
      "<ipython-input-49-26929d7b9358>:4: FutureWarning: The frame.append method is deprecated and will be removed from pandas in a future version. Use pandas.concat instead.\n",
      "  extracted_data = extracted_data.append(extract_from_json(json_file),ignore_index=True)\n",
      "<ipython-input-49-26929d7b9358>:4: FutureWarning: The frame.append method is deprecated and will be removed from pandas in a future version. Use pandas.concat instead.\n",
      "  extracted_data = extracted_data.append(extract_from_json(json_file),ignore_index=True)\n"
     ]
    },
    {
     "data": {
      "text/html": [
       "<div>\n",
       "<style scoped>\n",
       "    .dataframe tbody tr th:only-of-type {\n",
       "        vertical-align: middle;\n",
       "    }\n",
       "\n",
       "    .dataframe tbody tr th {\n",
       "        vertical-align: top;\n",
       "    }\n",
       "\n",
       "    .dataframe thead th {\n",
       "        text-align: right;\n",
       "    }\n",
       "</style>\n",
       "<table border=\"1\" class=\"dataframe\">\n",
       "  <thead>\n",
       "    <tr style=\"text-align: right;\">\n",
       "      <th></th>\n",
       "      <th>Name</th>\n",
       "      <th>Market Cap (US$ Billion)</th>\n",
       "    </tr>\n",
       "  </thead>\n",
       "  <tbody>\n",
       "    <tr>\n",
       "      <th>0</th>\n",
       "      <td>JPMorgan Chase</td>\n",
       "      <td>390.934</td>\n",
       "    </tr>\n",
       "    <tr>\n",
       "      <th>1</th>\n",
       "      <td>Industrial and Commercial Bank of China</td>\n",
       "      <td>345.214</td>\n",
       "    </tr>\n",
       "    <tr>\n",
       "      <th>2</th>\n",
       "      <td>Bank of America</td>\n",
       "      <td>325.331</td>\n",
       "    </tr>\n",
       "    <tr>\n",
       "      <th>3</th>\n",
       "      <td>Wells Fargo</td>\n",
       "      <td>308.013</td>\n",
       "    </tr>\n",
       "    <tr>\n",
       "      <th>4</th>\n",
       "      <td>China Construction Bank</td>\n",
       "      <td>257.399</td>\n",
       "    </tr>\n",
       "    <tr>\n",
       "      <th>...</th>\n",
       "      <td>...</td>\n",
       "      <td>...</td>\n",
       "    </tr>\n",
       "    <tr>\n",
       "      <th>100</th>\n",
       "      <td>Ping An Bank</td>\n",
       "      <td>37.993</td>\n",
       "    </tr>\n",
       "    <tr>\n",
       "      <th>101</th>\n",
       "      <td>Standard Chartered</td>\n",
       "      <td>37.319</td>\n",
       "    </tr>\n",
       "    <tr>\n",
       "      <th>102</th>\n",
       "      <td>United Overseas Bank</td>\n",
       "      <td>35.128</td>\n",
       "    </tr>\n",
       "    <tr>\n",
       "      <th>103</th>\n",
       "      <td>QNB Group</td>\n",
       "      <td>33.560</td>\n",
       "    </tr>\n",
       "    <tr>\n",
       "      <th>104</th>\n",
       "      <td>Bank Rakyat</td>\n",
       "      <td>33.081</td>\n",
       "    </tr>\n",
       "  </tbody>\n",
       "</table>\n",
       "<p>105 rows × 2 columns</p>\n",
       "</div>"
      ],
      "text/plain": [
       "                                        Name  Market Cap (US$ Billion)\n",
       "0                             JPMorgan Chase                   390.934\n",
       "1    Industrial and Commercial Bank of China                   345.214\n",
       "2                            Bank of America                   325.331\n",
       "3                                Wells Fargo                   308.013\n",
       "4                    China Construction Bank                   257.399\n",
       "..                                       ...                       ...\n",
       "100                             Ping An Bank                    37.993\n",
       "101                       Standard Chartered                    37.319\n",
       "102                     United Overseas Bank                    35.128\n",
       "103                                QNB Group                    33.560\n",
       "104                              Bank Rakyat                    33.081\n",
       "\n",
       "[105 rows x 2 columns]"
      ]
     },
     "execution_count": 85,
     "metadata": {},
     "output_type": "execute_result"
    }
   ],
   "source": [
    "log(\"action\",\"Extract phase Started\")\n",
    "extracted_data = extract()\n",
    "log(\"action\",\"Extract phase Ended\")\n",
    "extracted_data"
   ]
  },
  {
   "cell_type": "code",
   "execution_count": 87,
   "id": "16c62776",
   "metadata": {},
   "outputs": [
    {
     "data": {
      "text/html": [
       "<div>\n",
       "<style scoped>\n",
       "    .dataframe tbody tr th:only-of-type {\n",
       "        vertical-align: middle;\n",
       "    }\n",
       "\n",
       "    .dataframe tbody tr th {\n",
       "        vertical-align: top;\n",
       "    }\n",
       "\n",
       "    .dataframe thead th {\n",
       "        text-align: right;\n",
       "    }\n",
       "</style>\n",
       "<table border=\"1\" class=\"dataframe\">\n",
       "  <thead>\n",
       "    <tr style=\"text-align: right;\">\n",
       "      <th></th>\n",
       "      <th>Name</th>\n",
       "      <th>Market Cap (GBP$ Billion)</th>\n",
       "    </tr>\n",
       "  </thead>\n",
       "  <tbody>\n",
       "    <tr>\n",
       "      <th>0</th>\n",
       "      <td>JPMorgan Chase</td>\n",
       "      <td>340.677</td>\n",
       "    </tr>\n",
       "    <tr>\n",
       "      <th>1</th>\n",
       "      <td>Industrial and Commercial Bank of China</td>\n",
       "      <td>300.835</td>\n",
       "    </tr>\n",
       "    <tr>\n",
       "      <th>2</th>\n",
       "      <td>Bank of America</td>\n",
       "      <td>283.508</td>\n",
       "    </tr>\n",
       "    <tr>\n",
       "      <th>3</th>\n",
       "      <td>Wells Fargo</td>\n",
       "      <td>268.416</td>\n",
       "    </tr>\n",
       "    <tr>\n",
       "      <th>4</th>\n",
       "      <td>China Construction Bank</td>\n",
       "      <td>224.309</td>\n",
       "    </tr>\n",
       "    <tr>\n",
       "      <th>...</th>\n",
       "      <td>...</td>\n",
       "      <td>...</td>\n",
       "    </tr>\n",
       "    <tr>\n",
       "      <th>100</th>\n",
       "      <td>Ping An Bank</td>\n",
       "      <td>33.109</td>\n",
       "    </tr>\n",
       "    <tr>\n",
       "      <th>101</th>\n",
       "      <td>Standard Chartered</td>\n",
       "      <td>32.521</td>\n",
       "    </tr>\n",
       "    <tr>\n",
       "      <th>102</th>\n",
       "      <td>United Overseas Bank</td>\n",
       "      <td>30.612</td>\n",
       "    </tr>\n",
       "    <tr>\n",
       "      <th>103</th>\n",
       "      <td>QNB Group</td>\n",
       "      <td>29.246</td>\n",
       "    </tr>\n",
       "    <tr>\n",
       "      <th>104</th>\n",
       "      <td>Bank Rakyat</td>\n",
       "      <td>28.828</td>\n",
       "    </tr>\n",
       "  </tbody>\n",
       "</table>\n",
       "<p>105 rows × 2 columns</p>\n",
       "</div>"
      ],
      "text/plain": [
       "                                        Name  Market Cap (GBP$ Billion)\n",
       "0                             JPMorgan Chase                    340.677\n",
       "1    Industrial and Commercial Bank of China                    300.835\n",
       "2                            Bank of America                    283.508\n",
       "3                                Wells Fargo                    268.416\n",
       "4                    China Construction Bank                    224.309\n",
       "..                                       ...                        ...\n",
       "100                             Ping An Bank                     33.109\n",
       "101                       Standard Chartered                     32.521\n",
       "102                     United Overseas Bank                     30.612\n",
       "103                                QNB Group                     29.246\n",
       "104                              Bank Rakyat                     28.828\n",
       "\n",
       "[105 rows x 2 columns]"
      ]
     },
     "execution_count": 87,
     "metadata": {},
     "output_type": "execute_result"
    }
   ],
   "source": [
    "log(\"action\",\"Transform phase Started\")\n",
    "transformed_data = transform(extracted_data,currency)\n",
    "log(\"action\",\"Transform phase Ended\")\n",
    "transformed_data"
   ]
  },
  {
   "cell_type": "code",
   "execution_count": 88,
   "id": "f4d7d5aa",
   "metadata": {},
   "outputs": [],
   "source": [
    "log(\"action\",\"Load phase Started\")\n",
    "load(transformed_data)\n",
    "log(\"action\",\"Load phase Ended\")"
   ]
  },
  {
   "cell_type": "code",
   "execution_count": 89,
   "id": "a25b8721",
   "metadata": {},
   "outputs": [],
   "source": [
    "log(\"action\",\"ETL process is complete\")"
   ]
  },
  {
   "cell_type": "code",
   "execution_count": 90,
   "id": "f0377b18",
   "metadata": {},
   "outputs": [],
   "source": [
    "log(\"action\",\"check target file\")"
   ]
  },
  {
   "cell_type": "markdown",
   "id": "0e896823",
   "metadata": {},
   "source": [
    "# Testing cell"
   ]
  },
  {
   "cell_type": "code",
   "execution_count": null,
   "id": "cd7b2524",
   "metadata": {},
   "outputs": [],
   "source": []
  }
 ],
 "metadata": {
  "kernelspec": {
   "display_name": "Python 3",
   "language": "python",
   "name": "python3"
  },
  "language_info": {
   "codemirror_mode": {
    "name": "ipython",
    "version": 3
   },
   "file_extension": ".py",
   "mimetype": "text/x-python",
   "name": "python",
   "nbconvert_exporter": "python",
   "pygments_lexer": "ipython3",
   "version": "3.8.8"
  }
 },
 "nbformat": 4,
 "nbformat_minor": 5
}
