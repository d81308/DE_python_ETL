{
 "cells": [
  {
   "cell_type": "code",
   "execution_count": 6,
   "id": "3cde9188",
   "metadata": {},
   "outputs": [],
   "source": [
    "from urllib import request\n",
    "import pandas as pd"
   ]
  },
  {
   "cell_type": "code",
   "execution_count": 28,
   "id": "54fbd9dd",
   "metadata": {},
   "outputs": [],
   "source": [
    "url1= 'https://cf-courses-data.s3.us.cloud-object-storage.appdomain.cloud/IBMDeveloperSkillsNetwork-PY0221EN-SkillsNetwork/labs/module%206/Lab%20-%20Extract%20Transform%20Load/data/bank_market_cap_1.json'  \n",
    "url2= 'https://cf-courses-data.s3.us.cloud-object-storage.appdomain.cloud/IBMDeveloperSkillsNetwork-PY0221EN-SkillsNetwork/labs/module%206/Lab%20-%20Extract%20Transform%20Load/data/bank_market_cap_2.json'\n",
    "url3= 'https://cf-courses-data.s3.us.cloud-object-storage.appdomain.cloud/IBMDeveloperSkillsNetwork-PY0221EN-SkillsNetwork/labs/module%206/Final%20Assignment/exchange_rates.csv'\n",
    "url_list = [url1,url2,url3]"
   ]
  },
  {
   "cell_type": "markdown",
   "id": "0594df88",
   "metadata": {},
   "source": [
    "### determine file name"
   ]
  },
  {
   "cell_type": "code",
   "execution_count": 30,
   "id": "9d970b01",
   "metadata": {},
   "outputs": [
    {
     "data": {
      "text/plain": [
       "'bank_market_cap_1.json'"
      ]
     },
     "execution_count": 30,
     "metadata": {},
     "output_type": "execute_result"
    }
   ],
   "source": [
    "file_name1 = url1[url1.rfind('/')+1:len(url1)]\n",
    "file_name1"
   ]
  },
  {
   "cell_type": "markdown",
   "id": "fa472dfe",
   "metadata": {},
   "source": [
    "### download using urlretrieve\n",
    "    #response<-\n",
    "        #request:library\n",
    "            #urlretrieve():method"
   ]
  },
  {
   "cell_type": "code",
   "execution_count": 31,
   "id": "f482a5d2",
   "metadata": {},
   "outputs": [],
   "source": [
    "#single response\n",
    "response = request.urlretrieve(url1,\"test_download/\"+file_name1)"
   ]
  },
  {
   "cell_type": "code",
   "execution_count": 29,
   "id": "e6e19c89",
   "metadata": {
    "scrolled": true
   },
   "outputs": [],
   "source": [
    "#multi response\n",
    "for url in url_list:\n",
    "    response = request.urlretrieve(url,\"test_download/\" + url[url.rfind('/')+1:len(url)])"
   ]
  },
  {
   "cell_type": "code",
   "execution_count": null,
   "id": "7494a233",
   "metadata": {},
   "outputs": [],
   "source": []
  }
 ],
 "metadata": {
  "kernelspec": {
   "display_name": "Python 3",
   "language": "python",
   "name": "python3"
  },
  "language_info": {
   "codemirror_mode": {
    "name": "ipython",
    "version": 3
   },
   "file_extension": ".py",
   "mimetype": "text/x-python",
   "name": "python",
   "nbconvert_exporter": "python",
   "pygments_lexer": "ipython3",
   "version": "3.8.8"
  }
 },
 "nbformat": 4,
 "nbformat_minor": 5
}
