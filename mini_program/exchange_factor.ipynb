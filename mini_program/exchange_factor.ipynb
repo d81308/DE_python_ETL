{
 "cells": [
  {
   "cell_type": "code",
   "execution_count": 1,
   "id": "9bf352da",
   "metadata": {},
   "outputs": [],
   "source": [
    "import requests\n",
    "import pandas as pd\n",
    "import json"
   ]
  },
  {
   "cell_type": "code",
   "execution_count": 2,
   "id": "e0302646",
   "metadata": {},
   "outputs": [],
   "source": [
    "#api key\n",
    "my_api_key = \"NLyy5zY60LW5XcRteDkle9MmjyFZVs3a\""
   ]
  },
  {
   "cell_type": "markdown",
   "id": "f66acdc8",
   "metadata": {},
   "source": [
    "# NG結果"
   ]
  },
  {
   "cell_type": "code",
   "execution_count": 3,
   "id": "2b1e38d6",
   "metadata": {},
   "outputs": [],
   "source": [
    "##exchange cal from api\n",
    "def exchange_usd_ng(my_api_key, currency):\n",
    "    #get api data\n",
    "    url = \"https://api.apilayer.com/exchangerates_data/latest?base=EUR&apikey=\"+ my_api_key\n",
    "    api_data = requests.get(url).text\n",
    "    #clean data\n",
    "    non_space_data = api_data.replace(' ','').replace('\\n','')\n",
    "    json_formed_data = json.loads(non_space_data)\n",
    "    #input dataframe\n",
    "    dataframe = pd.DataFrame(json_formed_data['rates'].items(),columns=['foreign_currency','rates'])\n",
    "\n",
    "    return dataframe[dataframe['foreign_currency']==currency]['rates']"
   ]
  },
  {
   "cell_type": "code",
   "execution_count": 4,
   "id": "0ed130b8",
   "metadata": {},
   "outputs": [
    {
     "data": {
      "text/plain": [
       "49    0.871252\n",
       "Name: rates, dtype: float64"
      ]
     },
     "execution_count": 4,
     "metadata": {},
     "output_type": "execute_result"
    }
   ],
   "source": [
    "ex_ng = exchange_usd_ng(my_api_key,'GBP')\n",
    "ex_ng"
   ]
  },
  {
   "cell_type": "markdown",
   "id": "501de19b",
   "metadata": {},
   "source": [
    "上面最後結果之所以會 ng，原因是這個結果包含 index項目。雖然可以單純做加減乘除，但沒辦法像常數一樣丟進 dataframe中計算。"
   ]
  },
  {
   "cell_type": "markdown",
   "id": "20be444b",
   "metadata": {},
   "source": [
    "# 取出 dataframe並用 iloc access value"
   ]
  },
  {
   "cell_type": "code",
   "execution_count": 5,
   "id": "5f53f4f3",
   "metadata": {},
   "outputs": [],
   "source": [
    "##exchange cal from api\n",
    "def exchange_usd_iloc(my_api_key, currency):\n",
    "    #get api data\n",
    "    url = \"https://api.apilayer.com/exchangerates_data/latest?base=EUR&apikey=\"+ my_api_key\n",
    "    api_data = requests.get(url).text\n",
    "    #clean data\n",
    "    non_space_data = api_data.replace(' ','').replace('\\n','')\n",
    "    json_formed_data = json.loads(non_space_data)\n",
    "    #input dataframe\n",
    "    dataframe = pd.DataFrame(json_formed_data['rates'].items(),columns=['foreign_currency','rates'])\n",
    "\n",
    "    return dataframe[dataframe['foreign_currency']==currency]"
   ]
  },
  {
   "cell_type": "markdown",
   "id": "9d72d9eb",
   "metadata": {},
   "source": [
    "* `df[ df[condition] ]` 會給出 dataframe的結果，結果包含 index, currency, rates\n",
    "* then use `iloc[0,1]` to access the rates' value"
   ]
  },
  {
   "cell_type": "code",
   "execution_count": 6,
   "id": "18bac8d9",
   "metadata": {},
   "outputs": [
    {
     "data": {
      "text/html": [
       "<div>\n",
       "<style scoped>\n",
       "    .dataframe tbody tr th:only-of-type {\n",
       "        vertical-align: middle;\n",
       "    }\n",
       "\n",
       "    .dataframe tbody tr th {\n",
       "        vertical-align: top;\n",
       "    }\n",
       "\n",
       "    .dataframe thead th {\n",
       "        text-align: right;\n",
       "    }\n",
       "</style>\n",
       "<table border=\"1\" class=\"dataframe\">\n",
       "  <thead>\n",
       "    <tr style=\"text-align: right;\">\n",
       "      <th></th>\n",
       "      <th>foreign_currency</th>\n",
       "      <th>rates</th>\n",
       "    </tr>\n",
       "  </thead>\n",
       "  <tbody>\n",
       "    <tr>\n",
       "      <th>49</th>\n",
       "      <td>GBP</td>\n",
       "      <td>0.871252</td>\n",
       "    </tr>\n",
       "  </tbody>\n",
       "</table>\n",
       "</div>"
      ],
      "text/plain": [
       "   foreign_currency     rates\n",
       "49              GBP  0.871252"
      ]
     },
     "execution_count": 6,
     "metadata": {},
     "output_type": "execute_result"
    }
   ],
   "source": [
    "ex_iloc = exchange_usd_iloc(my_api_key,'GBP')\n",
    "ex_iloc"
   ]
  },
  {
   "cell_type": "code",
   "execution_count": 7,
   "id": "d1387930",
   "metadata": {},
   "outputs": [
    {
     "data": {
      "text/plain": [
       "0.871252"
      ]
     },
     "execution_count": 7,
     "metadata": {},
     "output_type": "execute_result"
    }
   ],
   "source": [
    "ex_iloc.iloc[0,1]"
   ]
  },
  {
   "cell_type": "markdown",
   "id": "428ca655",
   "metadata": {},
   "source": [
    "# Set_index方法取值"
   ]
  },
  {
   "cell_type": "code",
   "execution_count": 8,
   "id": "f66b5ebb",
   "metadata": {},
   "outputs": [],
   "source": [
    "##exchange cal from api\n",
    "def exchange_usd_set_index(my_api_key, currency):\n",
    "    #get api data\n",
    "    url = \"https://api.apilayer.com/exchangerates_data/latest?base=EUR&apikey=\"+ my_api_key\n",
    "    api_data = requests.get(url).text\n",
    "    #clean data\n",
    "    non_space_data = api_data.replace(' ','').replace('\\n','')\n",
    "    json_formed_data = json.loads(non_space_data)\n",
    "    #input dataframe\n",
    "    dataframe = pd.DataFrame(json_formed_data['rates'].items(),columns=['foreign_currency','rates'])\n",
    "    dataframe_ind = dataframe.set_index('foreign_currency')\n",
    "    \n",
    "    return dataframe_ind.loc[currency]['rates']"
   ]
  },
  {
   "cell_type": "markdown",
   "id": "926135e2",
   "metadata": {},
   "source": [
    "* 使用 `.set_index` 將 currency欄目拉到 index\n",
    "* 再用 `['rates']` 就可以取值，不包含NG中的index"
   ]
  },
  {
   "cell_type": "code",
   "execution_count": 9,
   "id": "e75bdb47",
   "metadata": {},
   "outputs": [
    {
     "data": {
      "text/plain": [
       "0.871252"
      ]
     },
     "execution_count": 9,
     "metadata": {},
     "output_type": "execute_result"
    }
   ],
   "source": [
    "ex_index = exchange_usd_set_index(my_api_key,'GBP')\n",
    "ex_index"
   ]
  },
  {
   "cell_type": "code",
   "execution_count": null,
   "id": "98efa46e",
   "metadata": {},
   "outputs": [],
   "source": []
  }
 ],
 "metadata": {
  "kernelspec": {
   "display_name": "Python 3",
   "language": "python",
   "name": "python3"
  },
  "language_info": {
   "codemirror_mode": {
    "name": "ipython",
    "version": 3
   },
   "file_extension": ".py",
   "mimetype": "text/x-python",
   "name": "python",
   "nbconvert_exporter": "python",
   "pygments_lexer": "ipython3",
   "version": "3.8.8"
  }
 },
 "nbformat": 4,
 "nbformat_minor": 5
}
